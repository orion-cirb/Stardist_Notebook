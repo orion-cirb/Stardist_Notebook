{
 "cells": [
  {
   "cell_type": "markdown",
   "id": "208fe261-927b-4dc9-99af-dd63ac6ddafe",
   "metadata": {},
   "source": [
    "# Export model to Tensor Flow"
   ]
  },
  {
   "cell_type": "code",
   "execution_count": 1,
   "id": "b1bcd9c4-d79d-4c7c-8f4e-5ef12a9f6605",
   "metadata": {},
   "outputs": [
    {
     "name": "stderr",
     "output_type": "stream",
     "text": [
      "2022-12-09 10:28:55.196014: I tensorflow/core/platform/cpu_feature_guard.cc:193] This TensorFlow binary is optimized with oneAPI Deep Neural Network Library (oneDNN) to use the following CPU instructions in performance-critical operations:  AVX2 AVX512F FMA\n",
      "To enable them in other operations, rebuild TensorFlow with the appropriate compiler flags.\n",
      "2022-12-09 10:28:55.867113: I tensorflow/core/common_runtime/gpu/gpu_device.cc:1532] Created device /job:localhost/replica:0/task:0/device:GPU:0 with 6784 MB memory:  -> device: 0, name: Quadro P4000, pci bus id: 0000:9e:00.0, compute capability: 6.1\n"
     ]
    },
    {
     "name": "stdout",
     "output_type": "stream",
     "text": [
      "Loading network weights from 'weights_best.h5'.\n",
      "Loading thresholds from 'thresholds.json'.\n",
      "Using default values: prob_thresh=0.472147, nms_thresh=0.3.\n"
     ]
    },
    {
     "name": "stderr",
     "output_type": "stream",
     "text": [
      "2022-12-09 10:28:56.717669: I tensorflow/core/common_runtime/gpu/gpu_device.cc:1532] Created device /job:localhost/replica:0/task:0/device:GPU:0 with 6784 MB memory:  -> device: 0, name: Quadro P4000, pci bus id: 0000:9e:00.0, compute capability: 6.1\n",
      "2022-12-09 10:28:56.739629: I tensorflow/compiler/mlir/mlir_graph_optimization_pass.cc:354] MLIR V1 optimization pass is not enabled\n"
     ]
    },
    {
     "name": "stdout",
     "output_type": "stream",
     "text": [
      "WARNING:tensorflow:From /opt/miniconda3/envs/stardist/lib/python3.10/site-packages/tensorflow/python/saved_model/signature_def_utils_impl.py:203: build_tensor_info (from tensorflow.python.saved_model.utils_impl) is deprecated and will be removed in a future version.\n",
      "Instructions for updating:\n",
      "This function will only be available through the v1 compatibility library as tf.compat.v1.saved_model.utils.build_tensor_info or tf.compat.v1.saved_model.build_tensor_info.\n",
      "INFO:tensorflow:No assets to save.\n",
      "INFO:tensorflow:No assets to write.\n",
      "INFO:tensorflow:/tmp/tmp67n_f21l/model/variables/variables.index\n",
      "INFO:tensorflow:0\n",
      "INFO:tensorflow:/tmp/tmp67n_f21l/model/variables/variables.data-00000-of-00001\n",
      "INFO:tensorflow:5700\n",
      "INFO:tensorflow:SavedModel written to: /tmp/tmp67n_f21l/model/saved_model.pb\n"
     ]
    },
    {
     "name": "stderr",
     "output_type": "stream",
     "text": [
      "tf.py (177): \n",
      "***IMPORTANT NOTE***\n",
      "\n",
      "You are using 'tensorflow' 2.x, hence it is likely that the exported model *will not work*\n",
      "in associated ImageJ/Fiji plugins (e.g. CSBDeep and StarDist).\n",
      "\n",
      "If you indeed have problems loading the exported model in Fiji, the current workaround is\n",
      "to load the trained model in a Python environment with installed 'tensorflow' 1.x and then\n",
      "export it again. If you need help with this, please read:\n",
      "\n",
      "https://gist.github.com/uschmidt83/4b747862fe307044c722d6d1009f6183\n",
      "\n"
     ]
    },
    {
     "data": {
      "text/plain": [
       "<keras.engine.functional.Functional at 0x7fda2ff0bfa0>"
      ]
     },
     "execution_count": 1,
     "metadata": {},
     "output_type": "execute_result"
    }
   ],
   "source": [
    "from stardist.models import StarDist2D\n",
    "model = StarDist2D(None, 'pmls2', basedir='/home/phm/Developpement/StarDist_Models/2D/PMLS/')\n",
    "model.export_TF()\n",
    "\n",
    "\n"
   ]
  },
  {
   "cell_type": "code",
   "execution_count": null,
   "id": "ce363c25-f34c-41ca-8827-43440cda0371",
   "metadata": {},
   "outputs": [],
   "source": []
  }
 ],
 "metadata": {
  "kernelspec": {
   "display_name": "Python 3 (ipykernel)",
   "language": "python",
   "name": "python3"
  },
  "language_info": {
   "codemirror_mode": {
    "name": "ipython",
    "version": 3
   },
   "file_extension": ".py",
   "mimetype": "text/x-python",
   "name": "python",
   "nbconvert_exporter": "python",
   "pygments_lexer": "ipython3",
   "version": "3.10.4"
  }
 },
 "nbformat": 4,
 "nbformat_minor": 5
}
